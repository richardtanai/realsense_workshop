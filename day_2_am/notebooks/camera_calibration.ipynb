{
 "cells": [
  {
   "cell_type": "markdown",
   "metadata": {},
   "source": [
    "# Camera Caliibration\n",
    "\n",
    "This notebook would give an overview on how to \n",
    "\n",
    "Perform Camera Calibration for a Generic Camera"
   ]
  },
  {
   "cell_type": "code",
   "execution_count": 1,
   "metadata": {},
   "outputs": [],
   "source": [
    "import pathlib, os, pathlib\n",
    "\n",
    "work_dir = os.path.abspath(os.getcwd())\n",
    "work_dir_parent = pathlib.Path(work_dir).parent.absolute()\n",
    "\n",
    "calib_pic_dir = os.path.join(work_dir_parent,'calibration_pics')\n",
    "\n",
    "os.makedirs(calib_pic_dir, exist_ok=True)"
   ]
  },
  {
   "cell_type": "code",
   "execution_count": 2,
   "metadata": {},
   "outputs": [],
   "source": [
    "import cv2\n",
    "import numpy as np\n",
    "from datetime import datetime"
   ]
  },
  {
   "cell_type": "markdown",
   "metadata": {},
   "source": [
    "## Using USB Camera or PC Camera\n",
    "\n",
    "Collect 15 or more images with the chessboard\n",
    "\n",
    "Press \"c\" to capture image\n",
    "Press \"q to quit"
   ]
  },
  {
   "cell_type": "code",
   "execution_count": 3,
   "metadata": {},
   "outputs": [],
   "source": [
    "frameWidth = 640\n",
    "frameHeight = 480\n",
    "\n",
    "cap = cv2.VideoCapture(0)\n",
    "cap.set(3, frameWidth)\n",
    "cap.set(4, frameHeight)\n",
    "while True:\n",
    "    success, img = cap.read()\n",
    "    cv2.imshow(\"Live Capture\", img)\n",
    "    \n",
    "    # process image here\n",
    "    \n",
    "    key  = cv2.waitKey(1)\n",
    "    # press q to exit\n",
    "    if key & 0xFF == ord('q'):\n",
    "        break\n",
    "\n",
    "    if key == ord(\"c\"):\n",
    "        now = datetime.now().strftime(\"%Y-%m-%d-%H%M%S\")\n",
    "        cv2.imwrite(calib_pic_dir+f'/{now}.jpg', img)\n",
    "\n",
    "cv2.destroyAllWindows()\n",
    "cap.release()"
   ]
  },
  {
   "cell_type": "code",
   "execution_count": 33,
   "metadata": {},
   "outputs": [],
   "source": [
    "# set variables\n",
    "\n",
    "dirpath = calib_pic_dir     # directory of the images\n",
    "square_size = 0.025     # square size in meters\n",
    "width = 9               # number of squares in width\n",
    "height = 6              # number of squares in height\n",
    "visualize = True        # visualize process\n",
    "\n",
    "\n",
    "\n",
    "# perform calibration\n",
    "criteria = (cv2.TERM_CRITERIA_EPS + cv2.TERM_CRITERIA_MAX_ITER, 30, 0.001)\n",
    "\n",
    "# prepare object points, like (0,0,0), (1,0,0), (2,0,0) ....,(8,6,0)\n",
    "objp = np.zeros((height*width, 3), np.float32)\n",
    "objp[:, :2] = np.mgrid[0:width, 0:height].T.reshape(-1, 2)\n",
    "objp = objp * square_size\n",
    "# Arrays to store object points and image points from all the images.\n",
    "objpoints = []  # 3d point in real world space\n",
    "imgpoints = []  # 2d points in image plane.\n",
    "images = os.listdir(dirpath)\n",
    "for fname in images:\n",
    "    img = cv2.imread(os.path.join(dirpath, fname))\n",
    "    gray = cv2.cvtColor(img, cv2.COLOR_BGR2GRAY)\n",
    "    # Find the chess board corners\n",
    "    ret, corners = cv2.findChessboardCorners(gray, (width, height), None)\n",
    "    # If found, add object points, image points (after refining them)\n",
    "    if ret:\n",
    "        objpoints.append(objp)\n",
    "        corners2 = cv2.cornerSubPix(gray, corners, (11, 11), (-1, -1), criteria)\n",
    "        imgpoints.append(corners2)\n",
    "        # Draw and display the corners\n",
    "        img = cv2.drawChessboardCorners(img, (width, height), corners2, ret)\n",
    "    if visualize:\n",
    "        cv2.imshow('img',img)\n",
    "        cv2.waitKey(0)\n",
    "\n",
    "cv2.destroyAllWindows()\n",
    "\n",
    "ret, mtx, dist, rvecs, tvecs = cv2.calibrateCamera(objpoints, imgpoints, gray.shape[::-1], None, None)"
   ]
  },
  {
   "cell_type": "code",
   "execution_count": null,
   "metadata": {},
   "outputs": [],
   "source": [
    "np.save(\"calibration_matrix\", mtx)\n",
    "np.save(\"distortion_coefficients\", dist)"
   ]
  },
  {
   "cell_type": "code",
   "execution_count": 34,
   "metadata": {},
   "outputs": [
    {
     "data": {
      "text/plain": [
       "0.3119738146333606"
      ]
     },
     "execution_count": 34,
     "metadata": {},
     "output_type": "execute_result"
    }
   ],
   "source": [
    "ret"
   ]
  },
  {
   "cell_type": "code",
   "execution_count": 35,
   "metadata": {},
   "outputs": [
    {
     "data": {
      "text/plain": [
       "array([[567.37024762,   0.        , 317.05813065],\n",
       "       [  0.        , 567.86353292, 213.93060575],\n",
       "       [  0.        ,   0.        ,   1.        ]])"
      ]
     },
     "execution_count": 35,
     "metadata": {},
     "output_type": "execute_result"
    }
   ],
   "source": [
    "mtx"
   ]
  },
  {
   "cell_type": "code",
   "execution_count": 36,
   "metadata": {},
   "outputs": [
    {
     "data": {
      "text/plain": [
       "array([[ 0.14427071, -0.55556789, -0.01507111, -0.00228134,  0.74420082]])"
      ]
     },
     "execution_count": 36,
     "metadata": {},
     "output_type": "execute_result"
    }
   ],
   "source": [
    "dist"
   ]
  },
  {
   "cell_type": "code",
   "execution_count": 39,
   "metadata": {},
   "outputs": [],
   "source": [
    "# try undistorting image\n",
    "\n",
    "test_img = cv2.imread(\"/home/richard/realsense_workshop/day_2_am/calibration_pics/2024-08-25-220749.jpg\")\n",
    "\n",
    "h,  w = img.shape[:2]\n",
    "newcameramtx, roi = cv2.getOptimalNewCameraMatrix(mtx, dist, (w,h), 1, (w,h))\n",
    "\n",
    "# undistort\n",
    "dst = cv2.undistort(img, mtx, dist, None, newcameramtx)\n",
    " \n",
    "# crop the image\n",
    "x, y, w, h = roi\n",
    "dst = dst[y:y+h, x:x+w]\n",
    "\n",
    "\n",
    "cv2.imshow(\"Distorted\", img)\n",
    "cv2.imshow(\"Undistorted\", dst)\n",
    "\n",
    "cv2.waitKey(0)\n",
    "cv2.destroyAllWindows()"
   ]
  },
  {
   "cell_type": "code",
   "execution_count": null,
   "metadata": {},
   "outputs": [],
   "source": []
  }
 ],
 "metadata": {
  "kernelspec": {
   "display_name": "rgbd",
   "language": "python",
   "name": "python3"
  },
  "language_info": {
   "codemirror_mode": {
    "name": "ipython",
    "version": 3
   },
   "file_extension": ".py",
   "mimetype": "text/x-python",
   "name": "python",
   "nbconvert_exporter": "python",
   "pygments_lexer": "ipython3",
   "version": "3.10.14"
  }
 },
 "nbformat": 4,
 "nbformat_minor": 2
}
