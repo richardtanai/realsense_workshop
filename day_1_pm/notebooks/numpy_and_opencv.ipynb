{
 "cells": [
  {
   "cell_type": "markdown",
   "metadata": {},
   "source": [
    "# Numpy\n",
    "\n",
    "NumPy is a library for the Python programming language, adding support for large, multi-dimensional arrays and matrices, along with a large collection of high-level mathematical functions to operate on these arrays.\n",
    "\n",
    "With the python interface, OpenCV uses NumPy to represent its images\n"
   ]
  },
  {
   "cell_type": "code",
   "execution_count": null,
   "metadata": {},
   "outputs": [],
   "source": [
    "import numpy as np"
   ]
  },
  {
   "cell_type": "markdown",
   "metadata": {},
   "source": [
    "## OpenCV"
   ]
  },
  {
   "cell_type": "markdown",
   "metadata": {},
   "source": [
    "Read an Image and Show in a Popup window"
   ]
  },
  {
   "cell_type": "code",
   "execution_count": null,
   "metadata": {},
   "outputs": [],
   "source": [
    "import cv2"
   ]
  },
  {
   "cell_type": "code",
   "execution_count": null,
   "metadata": {},
   "outputs": [],
   "source": [
    "# read the image using imread\n",
    "\n",
    "img = cv2.imread('../resources/robot_arm_bin.jpg')"
   ]
  },
  {
   "cell_type": "code",
   "execution_count": null,
   "metadata": {},
   "outputs": [],
   "source": [
    "# display the image using imshow, this is the goto method when using python scripts\n",
    "\n",
    "# if using a ipynb, imshow must always be follow by waitkey and destroyallwindows in the same cell\n",
    "cv2.imshow(\"My Window\", img)\n",
    "cv2.waitKey(0)\n",
    "cv2.destroyAllWindows()"
   ]
  },
  {
   "cell_type": "code",
   "execution_count": null,
   "metadata": {},
   "outputs": [],
   "source": [
    "# let us check how is the image represented\n",
    "\n",
    "print(f'The image is represented as a {type(img)}, with a shape of {img.shape} in HEIGTH and WIDTH')\n",
    "print(f'Where each element has a datatype of {img.dtype}')"
   ]
  },
  {
   "cell_type": "code",
   "execution_count": null,
   "metadata": {},
   "outputs": [],
   "source": [
    "# alternative method,\n",
    "\n",
    "import matplotlib.pyplot as plt\n",
    "\n",
    "plt.imshow(img)"
   ]
  },
  {
   "cell_type": "markdown",
   "metadata": {},
   "source": [
    "Notice how the color of the image is different this is because\n",
    "\n",
    "opencv used BGR\n",
    "while matplotlib uses RGB\n",
    "\n",
    "We could use the cv2.cvtColor function to fix this\n",
    "\n",
    "Just be sure to be consistent when using BGR or RGB for the project"
   ]
  },
  {
   "cell_type": "code",
   "execution_count": null,
   "metadata": {},
   "outputs": [],
   "source": [
    "img_cvt = cv2.cvtColor(img,cv2.COLOR_BGR2RGB)\n",
    "plt.imshow(img_cvt)"
   ]
  },
  {
   "cell_type": "code",
   "execution_count": null,
   "metadata": {},
   "outputs": [],
   "source": [
    "# sometimes some algorithms work with grayscale images\n",
    "\n",
    "img_gray = cv2.imread('../resources/robot_arm_bin.jpg', cv2.IMREAD_GRAYSCALE)\n",
    "print(img_gray)\n",
    "print(img_gray.shape)"
   ]
  },
  {
   "cell_type": "code",
   "execution_count": null,
   "metadata": {},
   "outputs": [],
   "source": [
    "plt.imshow(img_gray,cmap='gray')"
   ]
  },
  {
   "cell_type": "markdown",
   "metadata": {},
   "source": [
    "## Live Capture"
   ]
  },
  {
   "cell_type": "code",
   "execution_count": null,
   "metadata": {},
   "outputs": [],
   "source": [
    "# frameWidth = 640\n",
    "# frameHeight = 480\n",
    "cap = cv2.VideoCapture(0)\n",
    "# cap.set(3, frameWidth)\n",
    "# cap.set(4, frameHeight)\n",
    "while True:\n",
    "    success, img = cap.read()\n",
    "    cv2.imshow(\"Live Capture\", img)\n",
    "    \n",
    "    # process image here\n",
    "    \n",
    "    \n",
    "    # press q to exit\n",
    "    if cv2.waitKey(1) & 0xFF == ord('q'):\n",
    "        break\n",
    "\n",
    "cv2.destroyAllWindows()\n",
    "cap.release()"
   ]
  },
  {
   "cell_type": "markdown",
   "metadata": {},
   "source": [
    "## Image Processing\n",
    "- Thresholding\n",
    "- Resize\n",
    "- Crop\n",
    "- Drawing\n",
    "\n",
    "Explore (Yourself)\n",
    "- Blur\n",
    "- Canny Edge Detection"
   ]
  },
  {
   "cell_type": "code",
   "execution_count": null,
   "metadata": {},
   "outputs": [],
   "source": [
    "img_fruits = cv2.imread('../resources/fruits.webp')\n",
    "img_fruits_rgb = cv2.cvtColor(img_fruits,cv2.COLOR_BGR2RGB)\n",
    "plt.imshow(img_fruits_rgb)"
   ]
  },
  {
   "cell_type": "code",
   "execution_count": null,
   "metadata": {},
   "outputs": [],
   "source": [
    "# resize image\n",
    "\n",
    "# width = 640\n",
    "# height = 480\n",
    "\n",
    "img_fruits_rgb_resized = cv2.resize(img_fruits_rgb, (640,480))\n",
    "plt.imshow(img_fruits_rgb_resized)"
   ]
  },
  {
   "cell_type": "code",
   "execution_count": null,
   "metadata": {},
   "outputs": [],
   "source": [
    "# cropping\n",
    "\n",
    "img_apple = img_fruits_rgb_resized[320:420,220:330,:] #[HEIGHT_SLICE,WIDTH_SLICE,ALL]\n",
    "plt.imshow(img_apple)"
   ]
  },
  {
   "cell_type": "code",
   "execution_count": null,
   "metadata": {},
   "outputs": [],
   "source": [
    "img_rect = cv2.rectangle(img_fruits_rgb_resized,(220,320),(330,420),(255,255,255))\n",
    "plt.imshow(img_rect)"
   ]
  },
  {
   "cell_type": "code",
   "execution_count": null,
   "metadata": {},
   "outputs": [],
   "source": []
  },
  {
   "cell_type": "markdown",
   "metadata": {},
   "source": [
    "# Extras"
   ]
  },
  {
   "cell_type": "code",
   "execution_count": null,
   "metadata": {},
   "outputs": [],
   "source": [
    "# importing a module in a differnt folder\n",
    "\n",
    "# add the utils folder in the python path so that we could import it\n",
    "import sys\n",
    "sys.path.append('/home/richard/realsense_codes/utils')\n",
    "import camera\n",
    "\n",
    "# alternative method, using relative paths\n",
    "# this is equivalent to ../../../utils\n",
    "from  ...utils import camera"
   ]
  }
 ],
 "metadata": {
  "kernelspec": {
   "display_name": "Python 3",
   "language": "python",
   "name": "python3"
  },
  "language_info": {
   "codemirror_mode": {
    "name": "ipython",
    "version": 3
   },
   "file_extension": ".py",
   "mimetype": "text/x-python",
   "name": "python",
   "nbconvert_exporter": "python",
   "pygments_lexer": "ipython3",
   "version": "3.10.12"
  }
 },
 "nbformat": 4,
 "nbformat_minor": 2
}
